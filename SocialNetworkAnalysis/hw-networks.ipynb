{
 "cells": [
  {
   "cell_type": "markdown",
   "metadata": {
    "slideshow": {
     "slide_type": "slide"
    }
   },
   "source": [
    "<center><img src=\"images/header.png\"></center>\n",
    "\n",
    "<h1><center>Лекция №6: Введение в анализ социальных сетей</center></h1>\n",
    "<hr>\n",
    "<h1><center>Домашняя работа</center></h1>"
   ]
  },
  {
   "cell_type": "markdown",
   "metadata": {},
   "source": [
    "Данное ДЗ является довольно творческим и оно требует довольно много самостоятельной работы, так что не стоит с ним мешкать =)\n",
    "\n",
    "Вам предлагается выбрать сообщество (или сообщества) в сети ВКонтакте и проанализировать его (их) контингент. \n",
    "\n",
    "\n",
    "**Правила:**\n",
    "* Отчеты принимаются до **23:59 19 ноября**. Вы должны залить ваш ноутбук в github дать на него ссылку в следующей [форме](https://forms.gle/88d9CfaJN5gPV4bB8).\n",
    "* Работоспособность будет проверяться через [colab](https://colab.research.google.com) (можете сразу давать ссылку на него). Если ноутбук не будет исполняться (падать по ошибке) то все, что будет написано после ошибки не будет учитываться при формировании оценки. Для самопроверки, выполните аналог restart kernel and run all cells в colab\n",
    "* Вы должны включить код, с помощью которого вы общались с API вконтакте, но для экономии времени, заранее предусмотреть возможность загрузки уже собранных данных (например, как это было реализовано в ноутбуках по кластеризации через `wget` и dropbox или raw данными в github)\n",
    "\n",
    "**Пожелания:**\n",
    "* Выбирайте для анализа небольшие сообщества (до 5к), желательно чтобы вы сами в них состояли - это ускорит вычисления и упростит интерпретацию\n",
    "* Отнеситесь к этой работе как к исследованию - больше графиков и комментариев!\n",
    "* Красивые визуализации лучше делать через gephi!"
   ]
  },
  {
   "cell_type": "markdown",
   "metadata": {},
   "source": [
    "# Загрузка данных (2 балла)"
   ]
  },
  {
   "cell_type": "markdown",
   "metadata": {
    "slideshow": {
     "slide_type": "subslide"
    }
   },
   "source": [
    "Изучите следующие материалы\n",
    "* [Знакомство с API](https://vk.com/dev/first_guide)\n",
    "* [Туториал](https://nbviewer.jupyter.org/github/allatambov/Py-programming-3/blob/master/15-06/lect-vk-api.ipynb) по выгрузке данных с помощью VKAPI\n",
    "* Про метод execute - [туть](https://vk.com/dev/execute) и [туть](http://www.cyberforum.ru/python-web/thread1730446.html)\n",
    "\n",
    "Выберите сообщество и загрузите\n",
    "* Идентификаторы всех [участников сообщества](https://vk.com/dev/groups.getMembers)\n",
    "* [Списки друзей](https://vk.com/dev/friends.get) участников и их признаки (пол, возраст, университет и все, что посчитаете нужным - нам потом группировать по этим атрибутам)\n",
    "* [Пересечение](https://vk.com/dev/friends.getMutual) между списками друзей\n",
    "\n",
    "Таким образом вы должны получить замкнутую группу аккаунтов с их друзьями и связями между ними.\n",
    "\n",
    "Далее - соберите их этого граф в networkX и сохраните в graphml или gml формате\n",
    "\n",
    "**Замечания:**\n",
    "* Вконтакте может ограничить вам скорость запросов, поэтому иногда имеет смысл ставить небольшую паузу (`time.sleep(1)`) между запросами и сохранять предварительные результаты\n",
    "* Код выгрузки может быть написан как с помощью модуля `vk` так и просто с помощью requests\n",
    "* Некоторые пользователи могли сделать свой аккаунт приватным, что может вызвать ошибку в методе `getMutual`. Чтобы этого избежать придется проверять каждого на приватность с помощью `users.get` и аттрибута `is_closed`\n"
   ]
  },
  {
   "cell_type": "markdown",
   "metadata": {},
   "source": [
    "```\n",
    "### Здесь должен быть код загрузки из VK\n",
    "### Его можно закомментировать\n",
    "```"
   ]
  },
  {
   "cell_type": "code",
   "execution_count": 1,
   "metadata": {},
   "outputs": [],
   "source": [
    "# import vk\n",
    "\n",
    "# access_token = \"...\"\n",
    "\n",
    "# session = vk.Session(access_token)  # открыть сессию для работы\n",
    "# api     = vk.API(session)           # подключиться к API"
   ]
  },
  {
   "cell_type": "markdown",
   "metadata": {},
   "source": [
    "Сообщество в VK: [Элита ИИТа](https://vk.com/club186925532)"
   ]
  },
  {
   "cell_type": "code",
   "execution_count": 2,
   "metadata": {},
   "outputs": [],
   "source": [
    "# fields = [\"sex\", \"bdate\", \"universities\", \"city\"] # атрибуты\n",
    "\n",
    "# user_list = api.groups.getMembers(group_id=\"186925532\",\n",
    "#                                   fields=fields,  # атрибуты\n",
    "#                                   v=\"5.95\")[\"items\"]\n",
    "\n",
    "# print(f\"Число участников сообщества: {len(user_list)}\")"
   ]
  },
  {
   "cell_type": "code",
   "execution_count": 3,
   "metadata": {},
   "outputs": [],
   "source": [
    "# def transform_attributes(node):\n",
    "#     attrs = {\n",
    "#         \"is_closed\": node.get(\"is_closed\", False),\n",
    "#         \"sex\": node.get(\"sex\", 0),\n",
    "#         \"bdate\": node.get(\"bdate\", \"01.01.1970\"),\n",
    "#     }\n",
    "\n",
    "#     if \"city\" in node:\n",
    "#         attrs[\"city\"] = node[\"city\"][\"title\"]\n",
    "#     else:\n",
    "#         attrs[\"city\"] = \"\"\n",
    "\n",
    "#     if (\"universities\" in node) and node[\"universities\"]:\n",
    "#         attrs[\"universities\"] = node[\"universities\"][0][\"name\"]\n",
    "#     else:\n",
    "#         attrs[\"universities\"] = \"\"\n",
    "\n",
    "#     return attrs\n",
    "\n",
    "# users = dict()  # id: attrs\n",
    "# for user in user_list:\n",
    "#     uid = user[\"id\"]\n",
    "#     if \"deactivated\" in user:\n",
    "#         continue  # deleted or banned\n",
    "#     users[uid] = transform_attributes(user)"
   ]
  },
  {
   "cell_type": "code",
   "execution_count": 4,
   "metadata": {},
   "outputs": [],
   "source": [
    "# from tqdm import tqdm_notebook\n",
    "# import time\n",
    "\n",
    "# for user_id in tqdm_notebook(users):\n",
    "#     friends = dict()\n",
    "#     if not users[user_id][\"is_closed\"]:\n",
    "#         ffriends = api.friends.get(user_id=user_id,\n",
    "#                                    fields=fields,  # атрибуты\n",
    "#                                    order=\"hint\",   # сортировать по рейтингу\n",
    "#                                    count=15,       # ограничить число друзей\n",
    "#                                    v=\"5.95\")[\"items\"]\n",
    "#         for f in ffriends:\n",
    "#             fid = f[\"id\"]\n",
    "#             if \"deactivated\" in f:\n",
    "#                 continue  # deleted or banned\n",
    "#             friends[fid] = transform_attributes(f)\n",
    "\n",
    "#         time.sleep(0.33)  # 3 requests per second\n",
    "\n",
    "#     users[user_id][\"friends\"] = friends"
   ]
  },
  {
   "cell_type": "code",
   "execution_count": 5,
   "metadata": {},
   "outputs": [],
   "source": [
    "# # Dump\n",
    "# import json\n",
    "\n",
    "# with open(\"users.json\", mode='w') as f:\n",
    "#     json.dump(obj=users, fp=f, indent=4)"
   ]
  },
  {
   "cell_type": "code",
   "execution_count": 6,
   "metadata": {},
   "outputs": [],
   "source": [
    "# # Load\n",
    "# import json\n",
    "\n",
    "# with open(\"users.json\", mode='r') as f:\n",
    "#     users = {\n",
    "#         int(uid): user  # key: str -> int\n",
    "#         for uid, user in json.load(fp=f).items()\n",
    "#     }"
   ]
  },
  {
   "cell_type": "markdown",
   "metadata": {},
   "source": [
    "---"
   ]
  },
  {
   "cell_type": "markdown",
   "metadata": {},
   "source": [
    "```\n",
    "### Здесь должен быть код преобразования в граф и сохранение в файл\n",
    "### Его тоже можно закомментировать\n",
    "```"
   ]
  },
  {
   "cell_type": "code",
   "execution_count": 7,
   "metadata": {},
   "outputs": [],
   "source": [
    "# import networkx as nx\n",
    "\n",
    "# def get_attrs(node):\n",
    "#     return {\n",
    "#         key: node[key]\n",
    "#         for key in fields + [\"is_closed\"]\n",
    "#     }\n",
    "\n",
    "# g = nx.Graph()\n",
    "\n",
    "# for uid in users:\n",
    "#     user = users[uid]\n",
    "#     g.add_node(uid, **get_attrs(user))\n",
    "\n",
    "#     for fid in user[\"friends\"]:\n",
    "#         friend = user[\"friends\"][fid]\n",
    "#         g.add_node(fid, **get_attrs(friend))\n",
    "#         g.add_edge(uid, fid)\n",
    "\n",
    "# # Получили граф, где\n",
    "# # звено -- id участника сообщества или его друзей\n",
    "# # ребро -- связь дружбы между участником сообщества и его друзьями\n",
    "\n",
    "# print(\n",
    "#     f\"nodes: {g.number_of_nodes():4}\\n\"\n",
    "#     f\"edges: {g.number_of_edges():4}\"\n",
    "# )"
   ]
  },
  {
   "cell_type": "code",
   "execution_count": 8,
   "metadata": {},
   "outputs": [],
   "source": [
    "# # Добавим ребра между друзьями разных участников сообщества\n",
    "\n",
    "# from tqdm import tqdm_notebook\n",
    "# import time\n",
    "\n",
    "\n",
    "# all_access_friend_id = set()\n",
    "# for uid, user in users.items():\n",
    "#     for fid in user[\"friends\"].keys():\n",
    "#         if not user[\"friends\"][fid][\"is_closed\"]:\n",
    "#             all_access_friend_id.add(int(fid))\n",
    "\n",
    "# for fid in tqdm_notebook(all_access_friend_id):\n",
    "#     common_friends = api.friends.get(user_id=fid,\n",
    "#                                      v=\"5.95\")[\"items\"]\n",
    "#     for nfid in common_friends:\n",
    "#         if nfid in all_access_friend_id:\n",
    "#             g.add_edge(fid, nfid)\n",
    "\n",
    "#     time.sleep(0.33)  # 3 requests per second\n",
    "\n",
    "# print(\n",
    "#     f\"nodes: {g.number_of_nodes():4}\\n\"\n",
    "#     f\"edges: {g.number_of_edges():4}\"\n",
    "# )"
   ]
  },
  {
   "cell_type": "code",
   "execution_count": 9,
   "metadata": {},
   "outputs": [],
   "source": [
    "# # Сохраним граф\n",
    "# g = nx.k_core(g, k=1)\n",
    "# nx.write_graphml(g, 'g15.graphml')"
   ]
  },
  {
   "cell_type": "markdown",
   "metadata": {},
   "source": [
    "---"
   ]
  },
  {
   "cell_type": "markdown",
   "metadata": {},
   "source": [
    "```\n",
    "### Здесь код, который загружает сохраненную сеть и все необходимые данные через wget\n",
    "```"
   ]
  },
  {
   "cell_type": "code",
   "execution_count": 10,
   "metadata": {},
   "outputs": [],
   "source": [
    "# ! wget ..."
   ]
  },
  {
   "cell_type": "code",
   "execution_count": 11,
   "metadata": {},
   "outputs": [
    {
     "name": "stdout",
     "output_type": "stream",
     "text": [
      "nodes: 2621\n",
      "edges: 9467\n"
     ]
    }
   ],
   "source": [
    "import networkx as nx\n",
    "\n",
    "g = nx.read_graphml('g15.graphml')\n",
    "\n",
    "print(\n",
    "    f\"nodes: {g.number_of_nodes():4}\\n\"\n",
    "    f\"edges: {g.number_of_edges():4}\"\n",
    ")"
   ]
  },
  {
   "cell_type": "markdown",
   "metadata": {},
   "source": [
    "# Визуализация (1 балл)"
   ]
  },
  {
   "cell_type": "markdown",
   "metadata": {},
   "source": [
    "* Откройте полученный граф в gephi\n",
    "* Выберите наиболее удачный на ваш взгляд алгоритм прорисовки\n",
    "* Добавьте изменение размера вершины в зависимости от степени вершины\n",
    "* Вставьте скрин-шот ниже"
   ]
  },
  {
   "cell_type": "markdown",
   "metadata": {},
   "source": [
    "```\n",
    "### Ваши картинки и комментарии ниже\n",
    "```"
   ]
  },
  {
   "cell_type": "markdown",
   "metadata": {},
   "source": [
    "<center>\n",
    "    <img src=\"graph.png\" width=\"600\" height=\"600\">\n",
    "</center>"
   ]
  },
  {
   "cell_type": "markdown",
   "metadata": {},
   "source": [
    "Алгоритм укладки: **Fruchterman Reingold**\n",
    "* Область: 100 000\n",
    "* Гравитация: 10\n",
    "* Скорость: 1\n",
    "\n",
    "Цвет звена - пол пользователя\n",
    "* <span style=\"color:#FF00FF\">розовый</span> - мужчина\n",
    "* <span style=\"color:##1E90FF\">синий</span> - женщина\n",
    "\n",
    "Размер звена - степень вершины\n",
    "* от 10 до 30"
   ]
  },
  {
   "cell_type": "markdown",
   "metadata": {},
   "source": [
    "# Центральности вершин (2 балла)"
   ]
  },
  {
   "cell_type": "markdown",
   "metadata": {},
   "source": [
    "Возможно, перед тем как пойти дальше, стоит немного почитстить граф - с помощью [kcore](https://www.google.com/search?client=firefox-b-d&q=networkx+kcore)\n",
    "\n",
    "* Найдите наиболее влиятельные вершины с точки зрения degree, closeness и betweenness centrality\n",
    "* Выделите их на картинке в gephi"
   ]
  },
  {
   "cell_type": "markdown",
   "metadata": {},
   "source": [
    "```\n",
    "### Ваш код, картинки и комментарии ниже\n",
    "```"
   ]
  },
  {
   "cell_type": "code",
   "execution_count": 12,
   "metadata": {},
   "outputs": [
    {
     "name": "stdout",
     "output_type": "stream",
     "text": [
      "k-core (k = 6)\n",
      "nodes: 2621 --> 692\n",
      "edges: 9467 --> 5582\n"
     ]
    }
   ],
   "source": [
    "k = 6\n",
    "gk = nx.k_core(g, k=k)\n",
    "\n",
    "print(\n",
    "    f\"k-core (k = {k})\\n\"\n",
    "    f\"nodes: {g.number_of_nodes():4} --> {gk.number_of_nodes()}\\n\"\n",
    "    f\"edges: {g.number_of_edges():4} --> {gk.number_of_edges()}\"\n",
    ")\n",
    "\n",
    "betweenness_centrality = nx.betweenness_centrality(gk)\n",
    "closeness_centrality   = nx.closeness_centrality(gk)\n",
    "\n",
    "nx.set_node_attributes(\n",
    "    gk,\n",
    "    values=betweenness_centrality,\n",
    "    name=\"betweenness_centrality\"\n",
    ")\n",
    "nx.set_node_attributes(\n",
    "    gk,\n",
    "    values=closeness_centrality,\n",
    "    name=\"closeness_centrality\"\n",
    ")\n",
    "\n",
    "nx.write_graphml(gk, f'g15_kcore{k}.graphml')"
   ]
  },
  {
   "cell_type": "markdown",
   "metadata": {},
   "source": [
    "<div style=\"float: left\">\n",
    "    Degree\n",
    "</div>\n",
    "<div style=\"float: right\">\n",
    "    Closeness Centrality\n",
    "</div>\n",
    "<div style=\"margin: 0 auto; width: 200px;\">\n",
    "    Betweenness Centrality\n",
    "</div>\n",
    "\n",
    "\n",
    "<center>\n",
    "    <img src=\"graph_3_merge.png\">\n",
    "    <img src=\"color.png\" alt=\"colorbar\" align=\"center\"> \n",
    "</center>"
   ]
  },
  {
   "cell_type": "markdown",
   "metadata": {},
   "source": [
    "Отчетливо наблюдается одна наиболее влиятельная <span style=\"color:#B22222\">вершина</span> с точки зрения любого из алгоритмов"
   ]
  },
  {
   "cell_type": "markdown",
   "metadata": {},
   "source": [
    "# Сообщества... в сообществе (2 балла)\n",
    "\n",
    "В этом задании надо примерить 2 алгоритма выявления сообществ и сравнить их результаты\n",
    "\n",
    "Выберите алгоритм выделения сообществ на графах, например\n",
    "* label propagation или \n",
    "* алгоритм на основе edge betweeness\n",
    "\n",
    "и алгоритм на основе похожести вершин, например \n",
    "* расчитатайте попарную похожесть по jaccard, косинусному расстоянию или корреляцию\n",
    "* при необходимости переведите \"похожесть\" в \"расстояние\" (чем больше значение тем \"дальше\" объекты друг от друга)\n",
    "* подайте матрицу попарных расстояний в алгоритм кластеризации, например в DBSCAN\n",
    "\n",
    "Для обоих вариантов\n",
    "* Выделите сообщества, опираясь на максимальное значение модулярности для полученного разбиения\n",
    "* Изобразите граф с вершинами, раскрашенными в цвет своего сообщества в gephi\n",
    "* Попробуйте проинтерпретировать полученные сообщества, кто эти люди, почему они связаны?\n",
    "* Какой метод на ваш взгляд сработал лучше?"
   ]
  },
  {
   "cell_type": "markdown",
   "metadata": {},
   "source": [
    "```\n",
    "### Ваш код, картинки и комментарии ниже\n",
    "```"
   ]
  },
  {
   "cell_type": "code",
   "execution_count": 13,
   "metadata": {},
   "outputs": [],
   "source": [
    "from networkx.algorithms.community.quality import modularity"
   ]
  },
  {
   "cell_type": "code",
   "execution_count": 14,
   "metadata": {},
   "outputs": [
    {
     "name": "stdout",
     "output_type": "stream",
     "text": [
      "modularity = 0.36705\n"
     ]
    }
   ],
   "source": [
    "from networkx.algorithms.community import label_propagation_communities\n",
    "\n",
    "g = nx.read_graphml('g15_kcore6.graphml')\n",
    "\n",
    "for lp_class, nodes_id in enumerate(label_propagation_communities(g)):\n",
    "    for nid in nodes_id:\n",
    "         g.nodes[nid]['label_propagation_class'] = lp_class\n",
    "\n",
    "print(f\"modularity = {modularity(g, label_propagation_communities(g)):.5f}\")\n",
    "\n",
    "nx.write_graphml(g, f'g15_label_propogation.graphml')"
   ]
  },
  {
   "cell_type": "markdown",
   "metadata": {},
   "source": [
    "<center>\n",
    "    Label Propogation\n",
    "    <img src=\"graph_15_label_propogation.png\"\n",
    "         alt=\"Label Propogation\"\n",
    "         width=\"600\" height=\"600\">\n",
    "</center>"
   ]
  },
  {
   "cell_type": "markdown",
   "metadata": {},
   "source": [
    "Похоже, что сообщества выделены на основе университета"
   ]
  },
  {
   "cell_type": "code",
   "execution_count": 15,
   "metadata": {},
   "outputs": [],
   "source": [
    "# from networkx.algorithms.community import girvan_newman\n",
    "\n",
    "# g = nx.read_graphml('g15_kcore6.graphml')\n",
    "\n",
    "# def most_central_edge(G):\n",
    "#     centrality = nx.edge_betweenness_centrality(G, weight=\"weight\")\n",
    "#     return max(centrality, key=centrality.get)\n",
    "\n",
    "# gn_class = 0\n",
    "# for ttyple in girvan_newman(g, most_valuable_edge=most_central_edge):\n",
    "#     for sset in ttyple:\n",
    "#         for nid in sset:\n",
    "#             g.nodes[nid]['girvan_newman_class'] = gn_class\n",
    "#         gn_class += 1\n",
    "\n",
    "# nx.write_graphml(g, f'g15_girvan_newman.graphml')"
   ]
  },
  {
   "cell_type": "markdown",
   "metadata": {},
   "source": [
    "Алгоритм выделения сообществ на графах на основе edge betweeness работает очень долго :(  \n",
    "и относит 97% звеньев к одному классу, что неинформативно"
   ]
  },
  {
   "cell_type": "markdown",
   "metadata": {},
   "source": [
    "---"
   ]
  },
  {
   "cell_type": "code",
   "execution_count": 16,
   "metadata": {},
   "outputs": [],
   "source": [
    "from sklearn.preprocessing import LabelEncoder\n",
    "import numpy as np\n",
    "\n",
    "g = nx.read_graphml('g15_kcore6.graphml')\n",
    "\n",
    "le = LabelEncoder().fit(g.nodes())\n",
    "\n",
    "D = np.zeros((g.number_of_nodes(), g.number_of_nodes()))\n",
    "for u, v, p in nx.jaccard_coefficient(g):\n",
    "    i = le.transform([u])[0]\n",
    "    j = le.transform([v])[0]\n",
    "    D[i, j] = p\n",
    "\n",
    "D = D + D.T\n",
    "D = 1 - D"
   ]
  },
  {
   "cell_type": "code",
   "execution_count": 17,
   "metadata": {},
   "outputs": [
    {
     "name": "stdout",
     "output_type": "stream",
     "text": [
      "modularity = 0.25082\n"
     ]
    }
   ],
   "source": [
    "from sklearn.cluster import DBSCAN\n",
    "from collections import defaultdict\n",
    "\n",
    "dbscan = DBSCAN(eps=0.8,\n",
    "                min_samples=3,\n",
    "                metric='precomputed')\n",
    "dbscan.fit(D)\n",
    "\n",
    "communities = defaultdict(list)\n",
    "for i, cs_class in enumerate(dbscan.labels_):\n",
    "    nid = le.inverse_transform([i])[0]\n",
    "    communities[cs_class].append(nid)\n",
    "    g.nodes[nid]['dbscan_class'] = cs_class\n",
    "\n",
    "communities = [communities[cl] for cl in communities]\n",
    "print(f\"modularity = {modularity(g, communities):.5f}\")\n",
    "\n",
    "nx.write_graphml(g, f'g15_dbscan.graphml')"
   ]
  },
  {
   "cell_type": "markdown",
   "metadata": {},
   "source": [
    "<center>\n",
    "    DBSCAN\n",
    "    <img src=\"graph_15_dbscan.png\"\n",
    "         alt=\"DBSCAN\"\n",
    "         width=\"600\" height=\"600\">\n",
    "</center>"
   ]
  },
  {
   "cell_type": "code",
   "execution_count": 18,
   "metadata": {},
   "outputs": [
    {
     "name": "stdout",
     "output_type": "stream",
     "text": [
      "modularity = 0.42347\n"
     ]
    }
   ],
   "source": [
    "from sklearn.cluster import SpectralClustering\n",
    "from collections import defaultdict\n",
    "\n",
    "spectral = SpectralClustering(n_clusters=7,\n",
    "                              affinity='precomputed',\n",
    "                              random_state=42)\n",
    "spectral.fit(1 - D)\n",
    "\n",
    "communities = defaultdict(list)\n",
    "for i, cs_class in enumerate(spectral.labels_):\n",
    "    nid = le.inverse_transform([i])[0]\n",
    "    communities[cs_class].append(nid)\n",
    "    g.nodes[nid]['spectral_clustering_class'] = cs_class\n",
    "\n",
    "communities = [communities[cl] for cl in communities]\n",
    "print(f\"modularity = {modularity(g, communities):.5f}\")\n",
    "\n",
    "nx.write_graphml(g, f'g15_spectral_clustering.graphml')"
   ]
  },
  {
   "cell_type": "markdown",
   "metadata": {},
   "source": [
    "<center>\n",
    "    Spectral Clustering\n",
    "    <img src=\"graph_15_spectral_clustering.png\"\n",
    "         alt=\"Spectral Clustering\"\n",
    "         width=\"600\" height=\"600\">\n",
    "</center>"
   ]
  }
 ],
 "metadata": {
  "anaconda-cloud": {},
  "kernelspec": {
   "display_name": "Python 3",
   "language": "python",
   "name": "python3"
  },
  "language_info": {
   "codemirror_mode": {
    "name": "ipython",
    "version": 3
   },
   "file_extension": ".py",
   "mimetype": "text/x-python",
   "name": "python",
   "nbconvert_exporter": "python",
   "pygments_lexer": "ipython3",
   "version": "3.7.7"
  },
  "nav_menu": {},
  "toc": {
   "base_numbering": 1,
   "nav_menu": {
    "height": "347px",
    "width": "253px"
   },
   "number_sections": false,
   "sideBar": true,
   "skip_h1_title": false,
   "title_cell": "Table of Contents",
   "title_sidebar": "Contents",
   "toc_cell": false,
   "toc_position": {
    "height": "100px",
    "left": "46px",
    "right": "398.5px",
    "top": "111.133px",
    "width": "165px"
   },
   "toc_section_display": true,
   "toc_window_display": true
  },
  "toc_position": {
   "height": "40px",
   "left": "816px",
   "right": "38.6667px",
   "top": "0px",
   "width": "212px"
  }
 },
 "nbformat": 4,
 "nbformat_minor": 4
}
